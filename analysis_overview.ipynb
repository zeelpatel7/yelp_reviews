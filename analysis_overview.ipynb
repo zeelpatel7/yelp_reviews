{
 "cells": [
  {
   "cell_type": "markdown",
   "id": "1893166e",
   "metadata": {},
   "source": [
    "# Yelp Open Dataset - Drivers of High Ratings\n",
    "## Analysis overview"
   ]
  },
  {
   "cell_type": "markdown",
   "id": "7df04a3b",
   "metadata": {},
   "source": [
    "### 1. Environment & Paths"
   ]
  },
  {
   "cell_type": "markdown",
   "id": "77ccc7bb",
   "metadata": {},
   "source": [
    "**1.1 Importing Libraries**  \n",
    "Loaded core Python libraries for data handling, modeling, and visualization\n",
    "\n",
    "**1.2 Path Discovery**   \n",
    "Set up folder paths so data and outputs stay organized and reproducible across machines.  \n",
    "\n",
    "**1.3 Display Options**    \n",
    "Adjusted notebook display settings to keep tables and results easy to read.  \n",
    "\n",
    "**1.4 Brand Palette**  \n",
    "Defined a consistent color scheme and chart style to make visuals clear and presentation-ready."
   ]
  },
  {
   "cell_type": "markdown",
   "id": "91736ff1",
   "metadata": {},
   "source": [
    "### 2. Load & Clean dataset"
   ]
  },
  {
   "cell_type": "markdown",
   "id": "0b6f10fc",
   "metadata": {},
   "source": [
    "**2.1 Reading business.json**  \n",
    "Loaded the Yelp business dataset in manageable chunks to handle large file size efficiently.  \n",
    "*Observation:* First chunk confirmed structure (IDs, names, stars, reviews, location) and showed dataset is wide with many fields.  \n",
    "\n",
    "**2.2 Column Overview & Null Scan**  \n",
    "Checked column types, missing data, and attribute coverage to understand data quality upfront.  \n",
    "*Observation:* Missing values mainly in `hours` (~15%) and `attributes` (~9%), while key fields like `stars` and `review_count` were mostly complete.  \n",
    "\n",
    "**2.3 Cleaning Helpers**  \n",
    "Built functions to standardize messy fields, flatten attributes, and parse categories/hours into consistent formats.  \n",
    "*Observation:* Frequent attributes included credit cards, parking, and price range; rare ones included drive-thru and Bitcoin payments.  \n",
    "\n",
    "**2.4 Apply Cleaning**  \n",
    "Applied cleaning pipeline to create a structured dataset with a clear target variable (`high_rating`).  \n",
    "*Observation:* Dataset shape was ~50k rows × 56 columns, with star ratings averaging 3.6 (75% ≥ 3.5). Coverage was good for core fields, weaker for auxiliary ones like price and hours.  \n",
    "\n",
    "**2.5 Attribute Normalization**  \n",
    "Standardized text values, converted yes/no fields, and expanded nested attributes (e.g., parking, ambience) for consistency.  \n",
    "*Observation:* Normalization boosted usable values significantly — e.g., `wifi` grew from 0 raw entries to ~19k usable entries.  \n",
    "\n",
    "**2.6 Process Full Dataset**  \n",
    "Ran the full cleaning pipeline across all rows, saving results into a structured CSV for downstream analysis.  \n",
    "*Observation:* Final cleaned dataset combined identifiers, ratings, categories, and attributes into one consistent, analysis-ready table.  \n"
   ]
  },
  {
   "cell_type": "markdown",
   "id": "d3dd5e72",
   "metadata": {},
   "source": [
    "### 3. Coverage & Attribute Parsing"
   ]
  },
  {
   "cell_type": "markdown",
   "id": "a66425c8",
   "metadata": {},
   "source": [
    "**3.1 Load Dataset**  \n",
    "Loaded the cleaned dataset (`business_clean.csv`) and validated core fields like ratings, price, weekly hours, and categories.  \n",
    "*Observation:* Dataset opened successfully with expected fields available for analysis.  \n",
    "\n",
    "**3.2 Initial EDA: Distributions & Coverage**  \n",
    "Explored distributions of star ratings, review counts, attribute coverage, and top categories.  \n",
    "*Observation:* Most businesses rated 3–5 stars (avg ~4), review counts are heavily skewed with many businesses <10 reviews, high coverage for core fields (stars, credit cards), but sparse fields like wifi and hours.  \n",
    "\n",
    "**3.3 Fixed Gaps — Data Reliability & Normalization**  \n",
    "Created new features to address data weaknesses: reliable ratings (≥20 reviews), Bayesian-adjusted stars, missing flags, and standardized ratings by category/city.  \n",
    "*Observation:* These fixes reduce small-sample noise and allow fair comparisons across categories and cities.  \n",
    "\n",
    "**3.4 EDA with Gap Fixes**  \n",
    "Analyzed how adjusted ratings relate to reviews, hours, and attributes (e.g., wifi, alcohol, outdoor seating).  \n",
    "*Observation:* Free WiFi, alcohol service, reservations, and outdoor seating show slight positive lifts; shorter weekly hours (<40) associate with higher ratings; z-scores reveal city/category effects.  \n",
    "\n",
    "**3.5 Safety Checks**  \n",
    "Verified all engineered features exist (`high_rating_reliable`, `stars_bayes`, `stars_cat_z`, `stars_city_z`, `hours_bin`, and missing flags).  \n",
    "*Observation:* Guarantees consistency so later modeling steps are robust, even if earlier cells were skipped.  \n"
   ]
  },
  {
   "cell_type": "markdown",
   "id": "a68e237a",
   "metadata": {},
   "source": [
    "### 4. Q1 model + diagnostics"
   ]
  },
  {
   "cell_type": "markdown",
   "id": "0527a0e3",
   "metadata": {},
   "source": [
    "**4.1 Model Setup — Target & Feature Coverage**  \n",
    "Defined `high_rating = (stars ≥ 4.5)`, computed base rate, and audited feature coverage to know what’s reliably usable.  \n",
    "*Why now:* Establishes the benchmark and confirms we have enough signal before modeling.  \n",
    "*Observation:* Base rate ≈ 10–11%; high coverage for credit cards/price; moderate for delivery/outdoor seating; very low for hours & parking.\n",
    "\n",
    "**4.2 Parking Attribute Remediation**  \n",
    "Parsed messy/nested parking fields into clean columns (garage/street/lot/valet/validated) and standardized true/false values.  \n",
    "*Why now:* Coverage for parking was near-zero and stringified; without fixing it, parking could not be evaluated fairly.  \n",
    "*Observation:* Parking coverage increased materially (each type ~57% usable), enabling downstream analysis.\n",
    "\n",
    "**4.3 Attribute Lifts & Simple Correlations**  \n",
    "Screened features with transparent point lifts/correlations to see which attributes associate with high ratings.  \n",
    "*Why now:* Quick sanity-check to shortlist candidates and spot odd signs before complex models.  \n",
    "*Observation:* Positives—dogs allowed, street parking, outdoor seating; Negatives—wheelchair accessible, accepts credit cards, valet, happy hour, table service, TV, takeout; numeric features showed weak predictive power.\n",
    "\n",
    "**4.4 Segment Baseline — High-Rating Rates by Category**  \n",
    "Computed base rates and coverage within top business segments to avoid pooled averages hiding differences.  \n",
    "*Why now:* Restaurants dominate volume and can distort overall benchmarks; segment baselines make comparisons fair.  \n",
    "*Observation:* Overall base ≈ 11%, but Restaurants drop to ≈ 2.6% (much lower than other service segments).\n",
    "\n",
    "**4.5 Macro-Segment Mapping**  \n",
    "Mapped noisy category text to a few intuitive macro-segments and summarized counts/base rates.  \n",
    "*Why now:* Clean segment labels are needed for stable filtering, comparisons, and modeling controls.  \n",
    "*Observation:* Food & Beverage dominates (~71k) yet has the **lowest** base rate (~5%); service-oriented segments show much higher (≈15–23%).\n",
    "\n",
    "**4.6 Segment Analysis — Food & Beverage (Univariate)**  \n",
    "Within F&B, measured lifts/odds for binary & categorical attributes and correlations for numeric features.  \n",
    "*Why now:* Focuses on the target domain to identify levers specific to F&B before multivariate modeling.  \n",
    "*Observation:* F&B base ≈ 5.2%; strongest positives—dogs allowed, street parking; negatives—wheelchair accessible, credit cards, happy hour, table service, TV, drive-thru; “unknown” levels often score higher; casual/family-friendly signals trend positive while formal/bar/fast-food contexts trend negative.\n",
    "\n",
    "**4.7 Segment Model — F&B (Regularized Logistic Regression)**  \n",
    "Trained an interpretable L1/L2/Elastic Net logistic with balanced classes, CV, and a clean preprocessing pipeline.  \n",
    "*Why now:* Univariate effects can be confounded; regularized logistic provides multivariate, explainable drivers.  \n",
    "*Observation:* ROC-AUC ≈ 0.818 (acc ≈ 0.678); recall high, precision low due to ~5% positives; positives—street parking, “attire unknown,” Mexican, no alcohol, outdoor seating; negatives—fast food, full bar, formal attire, groups, pizza, TV, delivery.\n",
    "\n",
    "**4.8 Result Refinement — Step 1: Drop `parking_any`, Pool Rare Levels, Refit**  \n",
    "Removed synthetic aggregates and pooled rare categories to stabilize coefficients and interpretation.  \n",
    "*Why now:* `parking_any` masked specific effects; rare levels caused noisy, unstable estimates.  \n",
    "*Observation:* Performance held (ROC-AUC ≈ 0.816, PR-AUC ≈ 0.170) with cleaner, more interpretable drivers; overall pattern unchanged.\n",
    "\n",
    "**4.8 Result Refinement — Step 2: Add Cuisine Tokens + State Controls, Refit**  \n",
    "Restored rich `categories`, tokenized cuisines, and added state fixed effects to reduce confounding.  \n",
    "*Why now:* Category text carries true concept signal; geography drives baseline differences—both distort effects if omitted.  \n",
    "*Observation:* ROC-AUC ↑ to ≈ 0.852, PR-AUC ↑ to ≈ 0.218; clearer signals emerged. Remaining quirks: “attire=unknown” is a missingness proxy; non-F&B tokens leak in; alcohol shows concept vs amenity conflict; geography is a **control**, not a lever.  \n",
    "\n",
    "**4.8 Result Refinement —  Step 3: Whitelist Cuisine/Venue Tokens, Drop Alcohol, Refit Logistic**  \n",
    "Kept only F&B-relevant tokens (cuisines, venue types) and dropped alcohol to avoid double counting bar/cocktail features.  \n",
    "*Observation:* ROC-AUC stayed strong (~0.83); food trucks, Latin cuisine, cafes, vegan options → positive; Chinese, Tex-Mex, burgers → negative.\n",
    "\n",
    "**4.8 Result Refinement — Step 4: Final, Name-Safe and NaN-Proof Logistic (F&B)**  \n",
    "Hardened model by scrubbing missing values, rebuilding cuisine indicators, and cleaning labels for a stakeholder-ready driver table.  \n",
    "*Observation:* Precision for positives remains low, but signals are stable; food trucks, cafes, vegan/Latin cuisines push ratings up, while formal cuisines/ambience pull them down."
   ]
  },
  {
   "cell_type": "markdown",
   "id": "5ad85a76",
   "metadata": {},
   "source": [
    "### 5. Q1 roll-up charts/tables"
   ]
  },
  {
   "cell_type": "markdown",
   "id": "e6c8eccd",
   "metadata": {},
   "source": [
    "**5.1 ROC & PR Curves**  \n",
    "Plotted ROC and precision–recall curves to assess discrimination and performance under class imbalance.  \n",
    "*Why now:* Confirms the logistic model separates signal from noise before thresholding or driver interpretation.  \n",
    "*Observation:* ROC-AUC ≈ 0.833, PR-AUC ≈ 0.204 (~4× random). Strong ranking power; model effectively prioritizes top businesses despite low prevalence.\n",
    "\n",
    "**5.2 Driver Charts — Probability Lift**  \n",
    "Converted odds ratios into intuitive probability-point changes relative to the 5.2% base.  \n",
    "*Why now:* Stakeholders need interpretable “what moves the needle” views beyond coefficients.  \n",
    "*Observation:* Food trucks (+10.6 pts) and Latin American (+7.1 pts) strongest positives; upscale (–4.5 pts) and touristy (–4.0 pts) strongest negatives; most other factors cluster near neutral.\n",
    "\n",
    "**5.3 Threshold Selection**  \n",
    "Tested multiple thresholds to balance precision vs. recall for practical use.  \n",
    "*Why now:* ROC/PR curves rank order, but decisions require a cut-off aligned to business tolerance for false positives/negatives.  \n",
    "*Observation:* Best F1 ≈ 0.28 at threshold ≈ 0.78. Accuracy ≈ 0.90, but recall is low due to imbalance. Lowering threshold ↑ recall but ↓ precision.\n",
    "\n",
    "**5.4 Roll-Up Analysis — Cuisine, Venue, Operations**  \n",
    "Aggregated individual attributes into higher-order cuisine, venue, and operational themes.  \n",
    "*Why now:* Collapsing micro-features reveals consistent directional patterns across related drivers.  \n",
    "*Observation:*  \n",
    "- **Cuisine:** Specialty/health-conscious cuisines (Latin American, vegan, gluten-free) outperform; mainstream comfort foods underperform.  \n",
    "- **Venue:** Food trucks and casual venues positive; upscale/touristy negative.  \n",
    "- **Operations:** Street parking & family-friendly cues help; group-oriented/“add-on” amenities (valet, TVs, delivery) hurt.  \n",
    "- **Overall:** Flexible/casual formats succeed; formal/upscale contexts underperform consistently.\n"
   ]
  },
  {
   "cell_type": "markdown",
   "id": "ed3debe2",
   "metadata": {},
   "source": [
    "### 6. Q1 Validation"
   ]
  },
  {
   "cell_type": "markdown",
   "id": "74016fc6",
   "metadata": {},
   "source": [
    "**6.1 Validations / Sanity Checks**  \n",
    "Confirmed logistic drivers with tree models (Permutation Importance, SHAP) and calibration curves.  \n",
    "*Observation:* Core drivers stable; directions align; mild overconfidence at extremes.  \n",
    "\n",
    "**6.2 Calibration**  \n",
    "Applied Platt scaling & isotonic regression.  \n",
    "*Observation:* ROC-AUC ~0.83 unchanged; probability quality improved (Brier ↓, Log Loss ↓).  \n",
    "\n",
    "**6.3 Thresholds**  \n",
    "No new cutoff—focus remains on calibrated probabilities.  \n",
    "*Observation:* Outputs are stable and business-ready.  \n"
   ]
  },
  {
   "cell_type": "markdown",
   "id": "9bcfb69d",
   "metadata": {},
   "source": [
    "### 7. Q2 Recommendations (playbook + data gaps)"
   ]
  },
  {
   "cell_type": "markdown",
   "id": "23659152",
   "metadata": {},
   "source": [
    "**7.1 Operator Playbook & Data Gaps**  \n",
    "Built an operator playbook from model results, mapping factors to actions, metrics, and experiments; logged data gaps for future fixes.  \n",
    "*Observation:* Playbook converts model signals into operator levers (impact × coverage); surfaced confidence via bootstraps; gaps highlight missing ops/ambience/menu/geo data.\n",
    "\n",
    "**7.2 Playbook Charts**  \n",
    "Visualized top drivers by *Impact × Reach* and coverage vs probability lift.  \n"
   ]
  },
  {
   "cell_type": "markdown",
   "id": "cea26b80",
   "metadata": {},
   "source": [
    "### 8. Conclusion"
   ]
  },
  {
   "cell_type": "markdown",
   "id": "2c9c3373",
   "metadata": {},
   "source": [
    "*Conclusion:* Logistic model (ROC-AUC ~0.82) identifies clear drivers—positive (Food Trucks, Cafes, Vegan/Gluten-Free) vs. negative (Tourist vibe, Burgers, “Good for Groups”, TV).  \n",
    "*Observation:* Base rate is low (~5%), so precision–recall focus + playbook actions (parking, outdoor seating, delivery speed) are key for impact.  \n"
   ]
  }
 ],
 "metadata": {
  "kernelspec": {
   "display_name": "Python 3",
   "language": "python",
   "name": "python3"
  },
  "language_info": {
   "codemirror_mode": {
    "name": "ipython",
    "version": 3
   },
   "file_extension": ".py",
   "mimetype": "text/x-python",
   "name": "python",
   "nbconvert_exporter": "python",
   "pygments_lexer": "ipython3",
   "version": "3.11.9"
  }
 },
 "nbformat": 4,
 "nbformat_minor": 5
}
